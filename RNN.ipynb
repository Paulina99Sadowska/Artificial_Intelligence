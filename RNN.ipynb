{
  "nbformat": 4,
  "nbformat_minor": 0,
  "metadata": {
    "colab": {
      "provenance": [],
      "include_colab_link": true
    },
    "kernelspec": {
      "name": "python3",
      "display_name": "Python 3"
    }
  },
  "cells": [
    {
      "cell_type": "markdown",
      "metadata": {
        "id": "view-in-github",
        "colab_type": "text"
      },
      "source": [
        "<a href=\"https://colab.research.google.com/github/Paulina99Sadowska/Artificial_Intelligence/blob/main/RNN.ipynb\" target=\"_parent\"><img src=\"https://colab.research.google.com/assets/colab-badge.svg\" alt=\"Open In Colab\"/></a>"
      ]
    },
    {
      "cell_type": "markdown",
      "metadata": {
        "id": "xpAuMVCwfWs8"
      },
      "source": [
        "# Recurrent Neural Network"
      ]
    },
    {
      "cell_type": "markdown",
      "source": [
        "Using recurrent networks (RNN) to predict the opening prices of Google shares from January 2017 to the end of 2017."
      ],
      "metadata": {
        "id": "iJzYN9eSu8Qs"
      }
    },
    {
      "cell_type": "markdown",
      "metadata": {
        "id": "nxJfRe4bfYVA"
      },
      "source": [
        "## Part 1 - Data Preprocessing"
      ]
    },
    {
      "cell_type": "markdown",
      "metadata": {
        "id": "ir9zwETrfbrp"
      },
      "source": [
        "### Importing the libraries"
      ]
    },
    {
      "cell_type": "code",
      "metadata": {
        "id": "ZT1f24vHffuf"
      },
      "source": [
        "import numpy as np\n",
        "import matplotlib.pyplot as plt\n",
        "import pandas as pd"
      ],
      "execution_count": 39,
      "outputs": []
    },
    {
      "cell_type": "markdown",
      "metadata": {
        "id": "nQ47JAxrgmaL"
      },
      "source": [
        "### Importing the training set"
      ]
    },
    {
      "cell_type": "code",
      "source": [
        "df = pd.read_csv('Google_Stock_Price_Train.csv')\n",
        "training_set = df.iloc[:,1:2].values\n",
        "print(x_train)"
      ],
      "metadata": {
        "colab": {
          "base_uri": "https://localhost:8080/"
        },
        "id": "EMTEbnohtltw",
        "outputId": "05aa7110-9124-407b-bc0e-fbf32872c70b"
      },
      "execution_count": 57,
      "outputs": [
        {
          "output_type": "stream",
          "name": "stdout",
          "text": [
            "[[325.25]\n",
            " [331.27]\n",
            " [329.83]\n",
            " ...\n",
            " [793.7 ]\n",
            " [783.33]\n",
            " [782.75]]\n"
          ]
        }
      ]
    },
    {
      "cell_type": "markdown",
      "metadata": {
        "id": "HT8_2UJegtG5"
      },
      "source": [
        "### Feature Scaling"
      ]
    },
    {
      "cell_type": "code",
      "source": [
        "from sklearn.preprocessing import MinMaxScaler\n",
        "sc = MinMaxScaler(feature_range=(0, 1))\n",
        "training_set_sc = sc.fit_transform(training_set)\n",
        "print(training_set_sc)\n"
      ],
      "metadata": {
        "colab": {
          "base_uri": "https://localhost:8080/"
        },
        "id": "itoKAeqDzCFD",
        "outputId": "1a75a851-5c67-452c-a319-7afe06a34d6b"
      },
      "execution_count": 41,
      "outputs": [
        {
          "output_type": "stream",
          "name": "stdout",
          "text": [
            "[[0.08581368]\n",
            " [0.09701243]\n",
            " [0.09433366]\n",
            " ...\n",
            " [0.95725128]\n",
            " [0.93796041]\n",
            " [0.93688146]]\n"
          ]
        }
      ]
    },
    {
      "cell_type": "markdown",
      "metadata": {
        "id": "JyYgYocqhNUg"
      },
      "source": [
        "### Creating a data structure with 60 timesteps and 1 output"
      ]
    },
    {
      "cell_type": "code",
      "source": [
        "from numpy.lib.function_base import append\n",
        "\n",
        "X = []\n",
        "y = []\n",
        "\n",
        "for i in range (60,1258):\n",
        "  X.append(training_set_sc[i-60:i,0])\n",
        "  y.append(training_set_sc[i,0])\n",
        "\n",
        "X,y=np.array(X),np.array(y)\n",
        "print(X)\n",
        "print(y)\n",
        "\n"
      ],
      "metadata": {
        "colab": {
          "base_uri": "https://localhost:8080/"
        },
        "id": "-_gS3hR70EVg",
        "outputId": "920772b4-16bd-4f62-a6a2-0aa95f45ce9d"
      },
      "execution_count": 42,
      "outputs": [
        {
          "output_type": "stream",
          "name": "stdout",
          "text": [
            "[[0.08581368 0.09701243 0.09433366 ... 0.07846566 0.08034452 0.08497656]\n",
            " [0.09701243 0.09433366 0.09156187 ... 0.08034452 0.08497656 0.08627874]\n",
            " [0.09433366 0.09156187 0.07984225 ... 0.08497656 0.08627874 0.08471612]\n",
            " ...\n",
            " [0.92106928 0.92438053 0.93048218 ... 0.95475854 0.95204256 0.95163331]\n",
            " [0.92438053 0.93048218 0.9299055  ... 0.95204256 0.95163331 0.95725128]\n",
            " [0.93048218 0.9299055  0.93113327 ... 0.95163331 0.95725128 0.93796041]]\n",
            "[0.08627874 0.08471612 0.07454052 ... 0.95725128 0.93796041 0.93688146]\n"
          ]
        }
      ]
    },
    {
      "cell_type": "markdown",
      "metadata": {
        "id": "D8yaN7Zvi95l"
      },
      "source": [
        "### Reshaping"
      ]
    },
    {
      "cell_type": "code",
      "source": [
        "X = np.reshape(X,(X.shape[0], X.shape[1], 1))\n"
      ],
      "metadata": {
        "id": "G1C-hwPT_uqj"
      },
      "execution_count": 43,
      "outputs": []
    },
    {
      "cell_type": "markdown",
      "metadata": {
        "id": "ZRRSOJeVjEWV"
      },
      "source": [
        "## Part 2 - Building and Training the RNN"
      ]
    },
    {
      "cell_type": "markdown",
      "metadata": {
        "id": "k4XV88JMjHXG"
      },
      "source": [
        "### Importing the Keras libraries and packages"
      ]
    },
    {
      "cell_type": "code",
      "source": [
        "from keras.models import Sequential\n",
        "from keras.layers import Dense\n",
        "from keras.layers import LSTM\n",
        "from keras.layers import Dropout"
      ],
      "metadata": {
        "id": "YptiQXnvEmhq"
      },
      "execution_count": 44,
      "outputs": []
    },
    {
      "cell_type": "markdown",
      "metadata": {
        "id": "FEIE-1s9jNzC"
      },
      "source": [
        "### Initialising the RNN"
      ]
    },
    {
      "cell_type": "code",
      "source": [
        "regressor = Sequential()"
      ],
      "metadata": {
        "id": "f7ADvCy-GM7n"
      },
      "execution_count": 45,
      "outputs": []
    },
    {
      "cell_type": "markdown",
      "metadata": {
        "id": "62eg1OPGjT8z"
      },
      "source": [
        "### Adding the first LSTM layer and some Dropout regularisation"
      ]
    },
    {
      "cell_type": "code",
      "source": [
        "regressor.add(LSTM(units = 50,return_sequences=True,input_shape=(X.shape[1], 1)))\n",
        "regressor.add(Dropout(0.2))"
      ],
      "metadata": {
        "id": "vvYEAOVeHCH2"
      },
      "execution_count": 46,
      "outputs": []
    },
    {
      "cell_type": "markdown",
      "metadata": {
        "id": "3XBIYLyOjlMx"
      },
      "source": [
        "### Adding a second LSTM layer and some Dropout regularisation"
      ]
    },
    {
      "cell_type": "code",
      "source": [
        "regressor.add(LSTM(units = 50,return_sequences=True))\n",
        "regressor.add(Dropout(0.2))"
      ],
      "metadata": {
        "id": "NAbJ0bszJkO7"
      },
      "execution_count": 47,
      "outputs": []
    },
    {
      "cell_type": "markdown",
      "metadata": {
        "id": "Ey3fHVnGj1cu"
      },
      "source": [
        "### Adding a third LSTM layer and some Dropout regularisation"
      ]
    },
    {
      "cell_type": "code",
      "source": [
        "regressor.add(LSTM(units = 50,return_sequences=True))\n",
        "regressor.add(Dropout(0.2))"
      ],
      "metadata": {
        "id": "a9K50GIeJo3b"
      },
      "execution_count": 48,
      "outputs": []
    },
    {
      "cell_type": "markdown",
      "metadata": {
        "id": "SYTrtfTmj933"
      },
      "source": [
        "### Adding a fourth LSTM layer and some Dropout regularisation"
      ]
    },
    {
      "cell_type": "code",
      "source": [
        "regressor.add(LSTM(units = 50))\n",
        "regressor.add(Dropout(0.2))"
      ],
      "metadata": {
        "id": "od2ZWDDaJrC7"
      },
      "execution_count": 49,
      "outputs": []
    },
    {
      "cell_type": "markdown",
      "metadata": {
        "id": "9ABI6rOIkHhk"
      },
      "source": [
        "### Adding the output layer"
      ]
    },
    {
      "cell_type": "code",
      "source": [
        "regressor.add(Dense(units=1))"
      ],
      "metadata": {
        "id": "GuLNWiCdOq5s"
      },
      "execution_count": 50,
      "outputs": []
    },
    {
      "cell_type": "markdown",
      "metadata": {
        "id": "zLx4K7uUkPSh"
      },
      "source": [
        "### Compiling the RNN"
      ]
    },
    {
      "cell_type": "code",
      "source": [
        "regressor.compile(optimizer = 'adam', loss = \"mean_squared_error\")"
      ],
      "metadata": {
        "id": "AnBT0OicO69X"
      },
      "execution_count": 51,
      "outputs": []
    },
    {
      "cell_type": "markdown",
      "metadata": {
        "id": "-mPhwKGkkebi"
      },
      "source": [
        "### Fitting the RNN to the Training set"
      ]
    },
    {
      "cell_type": "code",
      "source": [
        "regressor.fit(X, y, epochs=100, batch_size=32)"
      ],
      "metadata": {
        "colab": {
          "base_uri": "https://localhost:8080/"
        },
        "id": "wlhnxq04Sjpx",
        "outputId": "fac20551-01ed-4d92-9172-4fc9fa3fc72d"
      },
      "execution_count": 54,
      "outputs": [
        {
          "output_type": "stream",
          "name": "stdout",
          "text": [
            "Epoch 1/100\n",
            "38/38 [==============================] - 3s 88ms/step - loss: 0.0039\n",
            "Epoch 2/100\n",
            "38/38 [==============================] - 3s 81ms/step - loss: 0.0039\n",
            "Epoch 3/100\n",
            "38/38 [==============================] - 3s 79ms/step - loss: 0.0041\n",
            "Epoch 4/100\n",
            "38/38 [==============================] - 3s 77ms/step - loss: 0.0040\n",
            "Epoch 5/100\n",
            "38/38 [==============================] - 4s 93ms/step - loss: 0.0041\n",
            "Epoch 6/100\n",
            "38/38 [==============================] - 3s 79ms/step - loss: 0.0036\n",
            "Epoch 7/100\n",
            "38/38 [==============================] - 3s 79ms/step - loss: 0.0036\n",
            "Epoch 8/100\n",
            "38/38 [==============================] - 3s 80ms/step - loss: 0.0037\n",
            "Epoch 9/100\n",
            "38/38 [==============================] - 4s 93ms/step - loss: 0.0036\n",
            "Epoch 10/100\n",
            "38/38 [==============================] - 3s 81ms/step - loss: 0.0035\n",
            "Epoch 11/100\n",
            "38/38 [==============================] - 3s 80ms/step - loss: 0.0036\n",
            "Epoch 12/100\n",
            "38/38 [==============================] - 3s 81ms/step - loss: 0.0032\n",
            "Epoch 13/100\n",
            "38/38 [==============================] - 6s 166ms/step - loss: 0.0034\n",
            "Epoch 14/100\n",
            "38/38 [==============================] - 4s 94ms/step - loss: 0.0040\n",
            "Epoch 15/100\n",
            "38/38 [==============================] - 4s 94ms/step - loss: 0.0030\n",
            "Epoch 16/100\n",
            "38/38 [==============================] - 3s 88ms/step - loss: 0.0032\n",
            "Epoch 17/100\n",
            "38/38 [==============================] - 3s 82ms/step - loss: 0.0030\n",
            "Epoch 18/100\n",
            "38/38 [==============================] - 3s 85ms/step - loss: 0.0032\n",
            "Epoch 19/100\n",
            "38/38 [==============================] - 4s 97ms/step - loss: 0.0037\n",
            "Epoch 20/100\n",
            "38/38 [==============================] - 4s 117ms/step - loss: 0.0034\n",
            "Epoch 21/100\n",
            "38/38 [==============================] - 4s 101ms/step - loss: 0.0031\n",
            "Epoch 22/100\n",
            "38/38 [==============================] - 4s 95ms/step - loss: 0.0030\n",
            "Epoch 23/100\n",
            "38/38 [==============================] - 3s 78ms/step - loss: 0.0028\n",
            "Epoch 24/100\n",
            "38/38 [==============================] - 3s 79ms/step - loss: 0.0031\n",
            "Epoch 25/100\n",
            "38/38 [==============================] - 3s 86ms/step - loss: 0.0026\n",
            "Epoch 26/100\n",
            "38/38 [==============================] - 3s 91ms/step - loss: 0.0025\n",
            "Epoch 27/100\n",
            "38/38 [==============================] - 3s 81ms/step - loss: 0.0023\n",
            "Epoch 28/100\n",
            "38/38 [==============================] - 3s 85ms/step - loss: 0.0029\n",
            "Epoch 29/100\n",
            "38/38 [==============================] - 4s 97ms/step - loss: 0.0024\n",
            "Epoch 30/100\n",
            "38/38 [==============================] - 3s 77ms/step - loss: 0.0025\n",
            "Epoch 31/100\n",
            "38/38 [==============================] - 3s 78ms/step - loss: 0.0025\n",
            "Epoch 32/100\n",
            "38/38 [==============================] - 3s 89ms/step - loss: 0.0027\n",
            "Epoch 33/100\n",
            "38/38 [==============================] - 4s 115ms/step - loss: 0.0027\n",
            "Epoch 34/100\n",
            "38/38 [==============================] - 3s 88ms/step - loss: 0.0028\n",
            "Epoch 35/100\n",
            "38/38 [==============================] - 3s 84ms/step - loss: 0.0027\n",
            "Epoch 36/100\n",
            "38/38 [==============================] - 4s 94ms/step - loss: 0.0028\n",
            "Epoch 37/100\n",
            "38/38 [==============================] - 3s 80ms/step - loss: 0.0024\n",
            "Epoch 38/100\n",
            "38/38 [==============================] - 3s 79ms/step - loss: 0.0025\n",
            "Epoch 39/100\n",
            "38/38 [==============================] - 3s 81ms/step - loss: 0.0025\n",
            "Epoch 40/100\n",
            "38/38 [==============================] - 4s 97ms/step - loss: 0.0023\n",
            "Epoch 41/100\n",
            "38/38 [==============================] - 3s 81ms/step - loss: 0.0023\n",
            "Epoch 42/100\n",
            "38/38 [==============================] - 3s 85ms/step - loss: 0.0021\n",
            "Epoch 43/100\n",
            "38/38 [==============================] - 3s 82ms/step - loss: 0.0021\n",
            "Epoch 44/100\n",
            "38/38 [==============================] - 3s 90ms/step - loss: 0.0024\n",
            "Epoch 45/100\n",
            "38/38 [==============================] - 3s 79ms/step - loss: 0.0022\n",
            "Epoch 46/100\n",
            "38/38 [==============================] - 3s 80ms/step - loss: 0.0022\n",
            "Epoch 47/100\n",
            "38/38 [==============================] - 3s 90ms/step - loss: 0.0023\n",
            "Epoch 48/100\n",
            "38/38 [==============================] - 3s 82ms/step - loss: 0.0021\n",
            "Epoch 49/100\n",
            "38/38 [==============================] - 3s 78ms/step - loss: 0.0021\n",
            "Epoch 50/100\n",
            "38/38 [==============================] - 3s 78ms/step - loss: 0.0021\n",
            "Epoch 51/100\n",
            "38/38 [==============================] - 3s 92ms/step - loss: 0.0020\n",
            "Epoch 52/100\n",
            "38/38 [==============================] - 3s 79ms/step - loss: 0.0021\n",
            "Epoch 53/100\n",
            "38/38 [==============================] - 3s 79ms/step - loss: 0.0023\n",
            "Epoch 54/100\n",
            "38/38 [==============================] - 3s 78ms/step - loss: 0.0020\n",
            "Epoch 55/100\n",
            "38/38 [==============================] - 4s 93ms/step - loss: 0.0019\n",
            "Epoch 56/100\n",
            "38/38 [==============================] - 3s 79ms/step - loss: 0.0019\n",
            "Epoch 57/100\n",
            "38/38 [==============================] - 3s 82ms/step - loss: 0.0019\n",
            "Epoch 58/100\n",
            "38/38 [==============================] - 3s 83ms/step - loss: 0.0018\n",
            "Epoch 59/100\n",
            "38/38 [==============================] - 4s 94ms/step - loss: 0.0018\n",
            "Epoch 60/100\n",
            "38/38 [==============================] - 3s 83ms/step - loss: 0.0019\n",
            "Epoch 61/100\n",
            "38/38 [==============================] - 3s 83ms/step - loss: 0.0016\n",
            "Epoch 62/100\n",
            "38/38 [==============================] - 4s 95ms/step - loss: 0.0019\n",
            "Epoch 63/100\n",
            "38/38 [==============================] - 3s 80ms/step - loss: 0.0018\n",
            "Epoch 64/100\n",
            "38/38 [==============================] - 3s 81ms/step - loss: 0.0017\n",
            "Epoch 65/100\n",
            "38/38 [==============================] - 3s 81ms/step - loss: 0.0018\n",
            "Epoch 66/100\n",
            "38/38 [==============================] - 4s 95ms/step - loss: 0.0018\n",
            "Epoch 67/100\n",
            "38/38 [==============================] - 3s 81ms/step - loss: 0.0018\n",
            "Epoch 68/100\n",
            "38/38 [==============================] - 3s 82ms/step - loss: 0.0017\n",
            "Epoch 69/100\n",
            "38/38 [==============================] - 3s 83ms/step - loss: 0.0022\n",
            "Epoch 70/100\n",
            "38/38 [==============================] - 4s 93ms/step - loss: 0.0019\n",
            "Epoch 71/100\n",
            "38/38 [==============================] - 3s 79ms/step - loss: 0.0024\n",
            "Epoch 72/100\n",
            "38/38 [==============================] - 3s 80ms/step - loss: 0.0017\n",
            "Epoch 73/100\n",
            "38/38 [==============================] - 3s 90ms/step - loss: 0.0017\n",
            "Epoch 74/100\n",
            "38/38 [==============================] - 3s 79ms/step - loss: 0.0017\n",
            "Epoch 75/100\n",
            "38/38 [==============================] - 3s 76ms/step - loss: 0.0017\n",
            "Epoch 76/100\n",
            "38/38 [==============================] - 3s 77ms/step - loss: 0.0016\n",
            "Epoch 77/100\n",
            "38/38 [==============================] - 4s 96ms/step - loss: 0.0017\n",
            "Epoch 78/100\n",
            "38/38 [==============================] - 3s 91ms/step - loss: 0.0016\n",
            "Epoch 79/100\n",
            "38/38 [==============================] - 3s 83ms/step - loss: 0.0015\n",
            "Epoch 80/100\n",
            "38/38 [==============================] - 3s 81ms/step - loss: 0.0016\n",
            "Epoch 81/100\n",
            "38/38 [==============================] - 3s 91ms/step - loss: 0.0013\n",
            "Epoch 82/100\n",
            "38/38 [==============================] - 3s 77ms/step - loss: 0.0015\n",
            "Epoch 83/100\n",
            "38/38 [==============================] - 3s 80ms/step - loss: 0.0016\n",
            "Epoch 84/100\n",
            "38/38 [==============================] - 3s 79ms/step - loss: 0.0016\n",
            "Epoch 85/100\n",
            "38/38 [==============================] - 4s 97ms/step - loss: 0.0014\n",
            "Epoch 86/100\n",
            "38/38 [==============================] - 3s 80ms/step - loss: 0.0016\n",
            "Epoch 87/100\n",
            "38/38 [==============================] - 3s 78ms/step - loss: 0.0015\n",
            "Epoch 88/100\n",
            "38/38 [==============================] - 3s 86ms/step - loss: 0.0018\n",
            "Epoch 89/100\n",
            "38/38 [==============================] - 4s 93ms/step - loss: 0.0014\n",
            "Epoch 90/100\n",
            "38/38 [==============================] - 3s 79ms/step - loss: 0.0014\n",
            "Epoch 91/100\n",
            "38/38 [==============================] - 3s 80ms/step - loss: 0.0013\n",
            "Epoch 92/100\n",
            "38/38 [==============================] - 4s 94ms/step - loss: 0.0013\n",
            "Epoch 93/100\n",
            "38/38 [==============================] - 3s 83ms/step - loss: 0.0014\n",
            "Epoch 94/100\n",
            "38/38 [==============================] - 3s 78ms/step - loss: 0.0014\n",
            "Epoch 95/100\n",
            "38/38 [==============================] - 3s 80ms/step - loss: 0.0013\n",
            "Epoch 96/100\n",
            "38/38 [==============================] - 4s 93ms/step - loss: 0.0015\n",
            "Epoch 97/100\n",
            "38/38 [==============================] - 3s 79ms/step - loss: 0.0015\n",
            "Epoch 98/100\n",
            "38/38 [==============================] - 3s 79ms/step - loss: 0.0017\n",
            "Epoch 99/100\n",
            "38/38 [==============================] - 3s 86ms/step - loss: 0.0013\n",
            "Epoch 100/100\n",
            "38/38 [==============================] - 3s 87ms/step - loss: 0.0013\n"
          ]
        },
        {
          "output_type": "execute_result",
          "data": {
            "text/plain": [
              "<keras.src.callbacks.History at 0x7b4f935be980>"
            ]
          },
          "metadata": {},
          "execution_count": 54
        }
      ]
    },
    {
      "cell_type": "markdown",
      "metadata": {
        "id": "4hRau_lIkrE8"
      },
      "source": [
        "## Part 3 - Making the predictions and visualising the results"
      ]
    },
    {
      "cell_type": "markdown",
      "metadata": {
        "id": "SgJO6qEDksxD"
      },
      "source": [
        "### Getting the real stock price of 2017"
      ]
    },
    {
      "cell_type": "code",
      "source": [
        "df2 = pd.read_csv('Google_Stock_Price_Test.csv')\n",
        "y_test = df2.iloc[:,1:2].values\n",
        "print(y_test)"
      ],
      "metadata": {
        "colab": {
          "base_uri": "https://localhost:8080/"
        },
        "id": "eN7EYtn5VtIh",
        "outputId": "6e49ceb8-0e5a-45ba-e0bb-c1695eab679d"
      },
      "execution_count": 68,
      "outputs": [
        {
          "output_type": "stream",
          "name": "stdout",
          "text": [
            "[[778.81]\n",
            " [788.36]\n",
            " [786.08]\n",
            " [795.26]\n",
            " [806.4 ]\n",
            " [807.86]\n",
            " [805.  ]\n",
            " [807.14]\n",
            " [807.48]\n",
            " [807.08]\n",
            " [805.81]\n",
            " [805.12]\n",
            " [806.91]\n",
            " [807.25]\n",
            " [822.3 ]\n",
            " [829.62]\n",
            " [837.81]\n",
            " [834.71]\n",
            " [814.66]\n",
            " [796.86]]\n"
          ]
        }
      ]
    },
    {
      "cell_type": "markdown",
      "metadata": {
        "id": "GrvrLblxkz42"
      },
      "source": [
        "### Getting the predicted stock price of 2017"
      ]
    },
    {
      "cell_type": "code",
      "source": [
        "data_set_total = pd.concat((df['Open'],df2['Open']),axis = 0)\n",
        "input = data_set_total[len(data_set_total) - len(df2)-60:].values\n",
        "input =input.reshape(-1,1)\n",
        "input = sc.transform(input)\n",
        "X_test =[]\n",
        "for i in range (60,80):\n",
        "  X_test.append(input[i-60:i,0])\n",
        "\n",
        "X_test=np.array(X_test)\n",
        "X_test = np.reshape(X_test,(X_test.shape[0], X_test.shape[1], 1))\n",
        "\n",
        "y_prdict = regressor.predict(X_test)\n",
        "y_prdict = sc.inverse_transform(y_prdict)\n",
        "print(y_prdict)\n",
        "\n"
      ],
      "metadata": {
        "colab": {
          "base_uri": "https://localhost:8080/"
        },
        "id": "my3zwiYYZDF2",
        "outputId": "5f394c56-efe4-40f4-de01-c8db4fc8714f"
      },
      "execution_count": 67,
      "outputs": [
        {
          "output_type": "stream",
          "name": "stdout",
          "text": [
            "1/1 [==============================] - 0s 36ms/step\n",
            "[[794.78595]\n",
            " [791.9979 ]\n",
            " [792.6068 ]\n",
            " [794.174  ]\n",
            " [797.7736 ]\n",
            " [804.0498 ]\n",
            " [809.49817]\n",
            " [811.4062 ]\n",
            " [811.5411 ]\n",
            " [811.16876]\n",
            " [810.79126]\n",
            " [810.37976]\n",
            " [810.09814]\n",
            " [810.6768 ]\n",
            " [811.73236]\n",
            " [816.89777]\n",
            " [824.2837 ]\n",
            " [831.9588 ]\n",
            " [835.7735 ]\n",
            " [830.78705]]\n"
          ]
        }
      ]
    },
    {
      "cell_type": "markdown",
      "metadata": {
        "id": "iFTNs3YHk6FQ"
      },
      "source": [
        "### Visualising the results"
      ]
    },
    {
      "cell_type": "code",
      "source": [
        "#the real stock prices\n",
        "plt.plot(y_test, color= 'magenta', label = 'Real Google Stock Price')\n",
        "#predictions\n",
        "plt.plot(y_prdict, color= 'blue', label = 'Predicted Google Stock Price')\n",
        "\n",
        "plt.title('Google Stock Price Prediction')\n",
        "plt.xlabel(\"Time\")\n",
        "plt.ylabel(\"Google Stock Price\")\n",
        "plt.legend()\n",
        "plt.show"
      ],
      "metadata": {
        "colab": {
          "base_uri": "https://localhost:8080/",
          "height": 489
        },
        "id": "kd8QEZVxsHCV",
        "outputId": "8b76552e-397c-47d0-9eca-fd97a32915bb"
      },
      "execution_count": 70,
      "outputs": [
        {
          "output_type": "execute_result",
          "data": {
            "text/plain": [
              "<function matplotlib.pyplot.show(close=None, block=None)>"
            ]
          },
          "metadata": {},
          "execution_count": 70
        },
        {
          "output_type": "display_data",
          "data": {
            "text/plain": [
              "<Figure size 640x480 with 1 Axes>"
            ],
            "image/png": "[encoded data removed]"
          },
          "metadata": {}
        }
      ]
    }
  ]
}