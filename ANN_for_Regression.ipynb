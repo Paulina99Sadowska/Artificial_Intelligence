{
  "nbformat": 4,
  "nbformat_minor": 0,
  "metadata": {
    "colab": {
      "provenance": [],
      "include_colab_link": true
    },
    "kernelspec": {
      "name": "python3",
      "display_name": "Python 3"
    }
  },
  "cells": [
    {
      "cell_type": "markdown",
      "metadata": {
        "id": "view-in-github",
        "colab_type": "text"
      },
      "source": [
        "<a href=\"https://colab.research.google.com/github/Paulina99Sadowska/Artificial_Intelligence/blob/main/ANN_for_Regression.ipynb\" target=\"_parent\"><img src=\"https://colab.research.google.com/assets/colab-badge.svg\" alt=\"Open In Colab\"/></a>"
      ]
    },
    {
      "cell_type": "markdown",
      "metadata": {
        "id": "3cbb7fRy-eyr"
      },
      "source": [
        "# Artificial Neural Network for Regression\n",
        "\n"
      ]
    },
    {
      "cell_type": "markdown",
      "metadata": {
        "id": "8sNDnxE2-pwE"
      },
      "source": [
        "### Importing the libraries"
      ]
    },
    {
      "cell_type": "code",
      "source": [
        "import numpy as np\n",
        "import pandas as pd\n",
        "import tensorflow as tf"
      ],
      "metadata": {
        "id": "RBr_jG03e4iu"
      },
      "execution_count": 7,
      "outputs": []
    },
    {
      "cell_type": "markdown",
      "metadata": {
        "id": "AG3FQEch-yuA"
      },
      "source": [
        "## Part 1 - Data Preprocessing"
      ]
    },
    {
      "cell_type": "markdown",
      "metadata": {
        "id": "-4zq8Mza_D9O"
      },
      "source": [
        "### Importing the dataset"
      ]
    },
    {
      "cell_type": "code",
      "source": [
        "df = pd.read_excel(\"Folds5x2_pp.xlsx\")\n",
        "x = df.iloc[:,:4]\n",
        "y = df.iloc[:,-1].values\n",
        "print(x)"
      ],
      "metadata": {
        "colab": {
          "base_uri": "https://localhost:8080/"
        },
        "id": "-ieeb_l3fM6J",
        "outputId": "c028230f-3784-4b1d-ba6c-0b4ce490fcba"
      },
      "execution_count": 8,
      "outputs": [
        {
          "output_type": "stream",
          "name": "stdout",
          "text": [
            "         AT      V       AP\n",
            "0     14.96  41.76  1024.07\n",
            "1     25.18  62.96  1020.04\n",
            "2      5.11  39.40  1012.16\n",
            "3     20.86  57.32  1010.24\n",
            "4     10.82  37.50  1009.23\n",
            "...     ...    ...      ...\n",
            "9563  16.65  49.69  1014.01\n",
            "9564  13.19  39.18  1023.67\n",
            "9565  31.32  74.33  1012.92\n",
            "9566  24.48  69.45  1013.86\n",
            "9567  21.60  62.52  1017.23\n",
            "\n",
            "[9568 rows x 3 columns]\n"
          ]
        }
      ]
    },
    {
      "cell_type": "markdown",
      "metadata": {
        "id": "VC6omXel_Up0"
      },
      "source": [
        "### Splitting the dataset into the Training set and Test set"
      ]
    },
    {
      "cell_type": "code",
      "source": [
        "from sklearn.model_selection import train_test_split\n",
        "x_train, x_test, y_train, y_test = train_test_split(x,y,test_size=0.2,random_state=0)"
      ],
      "metadata": {
        "id": "-X_VXlbYi1Xs"
      },
      "execution_count": 9,
      "outputs": []
    },
    {
      "cell_type": "markdown",
      "metadata": {
        "id": "_mSLlAT9_eyI"
      },
      "source": [
        "## Part 2 - Building the ANN"
      ]
    },
    {
      "cell_type": "markdown",
      "metadata": {
        "id": "CsBULd_f_wLY"
      },
      "source": [
        "### Initializing the ANN"
      ]
    },
    {
      "cell_type": "code",
      "source": [
        "ann = tf.keras.models.Sequential()"
      ],
      "metadata": {
        "id": "a5hS8tPWkVVv"
      },
      "execution_count": 10,
      "outputs": []
    },
    {
      "cell_type": "markdown",
      "metadata": {
        "id": "iitAFJS_ABUn"
      },
      "source": [
        "### Adding the input layer and the first hidden layer"
      ]
    },
    {
      "cell_type": "code",
      "source": [
        "ann.add(tf.keras.layers.Dense(units = 6, activation='relu',))"
      ],
      "metadata": {
        "id": "hZuwu_yin49d"
      },
      "execution_count": 11,
      "outputs": []
    },
    {
      "cell_type": "markdown",
      "metadata": {
        "id": "-lb4kK_wAKbs"
      },
      "source": [
        "### Adding the second hidden layer"
      ]
    },
    {
      "cell_type": "code",
      "source": [
        "ann.add(tf.keras.layers.Dense(units = 6, activation='relu',))"
      ],
      "metadata": {
        "id": "HhKPzoK6rPXE"
      },
      "execution_count": 12,
      "outputs": []
    },
    {
      "cell_type": "markdown",
      "metadata": {
        "id": "jwMOmKb3AdBY"
      },
      "source": [
        "### Adding the output layer"
      ]
    },
    {
      "cell_type": "code",
      "source": [
        "ann.add(tf.keras.layers.Dense(units = 1))"
      ],
      "metadata": {
        "id": "k6xoFXNErbfJ"
      },
      "execution_count": 13,
      "outputs": []
    },
    {
      "cell_type": "markdown",
      "metadata": {
        "id": "fq7e4fF6A1yy"
      },
      "source": [
        "## Part 3 - Training the ANN"
      ]
    },
    {
      "cell_type": "markdown",
      "metadata": {
        "id": "qDeylAs2An25"
      },
      "source": [
        "### Compiling the ANN"
      ]
    },
    {
      "cell_type": "code",
      "source": [
        "ann.compile(optimizer='adam',loss='mean_squared_error')"
      ],
      "metadata": {
        "id": "B7gcvKtTuvy3"
      },
      "execution_count": 14,
      "outputs": []
    },
    {
      "cell_type": "markdown",
      "metadata": {
        "id": "YjVuiybYOo7r"
      },
      "source": [
        "### Training the ANN model on the Training set"
      ]
    },
    {
      "cell_type": "code",
      "source": [
        "ann.fit(x_train,y_train,epochs =100, batch_size = 32)"
      ],
      "metadata": {
        "colab": {
          "base_uri": "https://localhost:8080/"
        },
        "id": "3azusswHvBdj",
        "outputId": "e51a0765-0df9-4534-b13b-3b609347dea7"
      },
      "execution_count": 15,
      "outputs": [
        {
          "output_type": "stream",
          "name": "stdout",
          "text": [
            "Epoch 1/100\n",
            "240/240 [==============================] - 1s 2ms/step - loss: 37187.1992\n",
            "Epoch 2/100\n",
            "240/240 [==============================] - 0s 2ms/step - loss: 209.6994\n",
            "Epoch 3/100\n",
            "240/240 [==============================] - 0s 2ms/step - loss: 204.3226\n",
            "Epoch 4/100\n",
            "240/240 [==============================] - 0s 2ms/step - loss: 197.7476\n",
            "Epoch 5/100\n",
            "240/240 [==============================] - 0s 2ms/step - loss: 189.8057\n",
            "Epoch 6/100\n",
            "240/240 [==============================] - 0s 2ms/step - loss: 180.9859\n",
            "Epoch 7/100\n",
            "240/240 [==============================] - 0s 2ms/step - loss: 170.9993\n",
            "Epoch 8/100\n",
            "240/240 [==============================] - 0s 2ms/step - loss: 159.7158\n",
            "Epoch 9/100\n",
            "240/240 [==============================] - 0s 2ms/step - loss: 148.5700\n",
            "Epoch 10/100\n",
            "240/240 [==============================] - 0s 2ms/step - loss: 136.0570\n",
            "Epoch 11/100\n",
            "240/240 [==============================] - 0s 2ms/step - loss: 123.2663\n",
            "Epoch 12/100\n",
            "240/240 [==============================] - 0s 2ms/step - loss: 110.4699\n",
            "Epoch 13/100\n",
            "240/240 [==============================] - 0s 2ms/step - loss: 97.6102\n",
            "Epoch 14/100\n",
            "240/240 [==============================] - 0s 2ms/step - loss: 85.4779\n",
            "Epoch 15/100\n",
            "240/240 [==============================] - 0s 2ms/step - loss: 74.0060\n",
            "Epoch 16/100\n",
            "240/240 [==============================] - 0s 1ms/step - loss: 63.8302\n",
            "Epoch 17/100\n",
            "240/240 [==============================] - 0s 2ms/step - loss: 55.1644\n",
            "Epoch 18/100\n",
            "240/240 [==============================] - 0s 2ms/step - loss: 47.8599\n",
            "Epoch 19/100\n",
            "240/240 [==============================] - 1s 2ms/step - loss: 42.1859\n",
            "Epoch 20/100\n",
            "240/240 [==============================] - 1s 2ms/step - loss: 38.1280\n",
            "Epoch 21/100\n",
            "240/240 [==============================] - 1s 3ms/step - loss: 35.5622\n",
            "Epoch 22/100\n",
            "240/240 [==============================] - 1s 4ms/step - loss: 33.7326\n",
            "Epoch 23/100\n",
            "240/240 [==============================] - 1s 3ms/step - loss: 32.8025\n",
            "Epoch 24/100\n",
            "240/240 [==============================] - 0s 2ms/step - loss: 32.4662\n",
            "Epoch 25/100\n",
            "240/240 [==============================] - 1s 3ms/step - loss: 31.7588\n",
            "Epoch 26/100\n",
            "240/240 [==============================] - 1s 3ms/step - loss: 31.4773\n",
            "Epoch 27/100\n",
            "240/240 [==============================] - 1s 5ms/step - loss: 31.4128\n",
            "Epoch 28/100\n",
            "240/240 [==============================] - 1s 3ms/step - loss: 31.1362\n",
            "Epoch 29/100\n",
            "240/240 [==============================] - 0s 2ms/step - loss: 30.7630\n",
            "Epoch 30/100\n",
            "240/240 [==============================] - 0s 2ms/step - loss: 30.6166\n",
            "Epoch 31/100\n",
            "240/240 [==============================] - 0s 2ms/step - loss: 30.3004\n",
            "Epoch 32/100\n",
            "240/240 [==============================] - 0s 2ms/step - loss: 29.9174\n",
            "Epoch 33/100\n",
            "240/240 [==============================] - 0s 2ms/step - loss: 29.7280\n",
            "Epoch 34/100\n",
            "240/240 [==============================] - 0s 2ms/step - loss: 30.1255\n",
            "Epoch 35/100\n",
            "240/240 [==============================] - 0s 2ms/step - loss: 29.5974\n",
            "Epoch 36/100\n",
            "240/240 [==============================] - 0s 2ms/step - loss: 29.4463\n",
            "Epoch 37/100\n",
            "240/240 [==============================] - 0s 2ms/step - loss: 29.0900\n",
            "Epoch 38/100\n",
            "240/240 [==============================] - 0s 2ms/step - loss: 29.1027\n",
            "Epoch 39/100\n",
            "240/240 [==============================] - 0s 2ms/step - loss: 28.7594\n",
            "Epoch 40/100\n",
            "240/240 [==============================] - 0s 2ms/step - loss: 29.2694\n",
            "Epoch 41/100\n",
            "240/240 [==============================] - 0s 2ms/step - loss: 28.5148\n",
            "Epoch 42/100\n",
            "240/240 [==============================] - 0s 2ms/step - loss: 28.6290\n",
            "Epoch 43/100\n",
            "240/240 [==============================] - 0s 2ms/step - loss: 28.8951\n",
            "Epoch 44/100\n",
            "240/240 [==============================] - 1s 3ms/step - loss: 28.7850\n",
            "Epoch 45/100\n",
            "240/240 [==============================] - 1s 2ms/step - loss: 28.3983\n",
            "Epoch 46/100\n",
            "240/240 [==============================] - 1s 2ms/step - loss: 28.3447\n",
            "Epoch 47/100\n",
            "240/240 [==============================] - 1s 3ms/step - loss: 28.3639\n",
            "Epoch 48/100\n",
            "240/240 [==============================] - 0s 2ms/step - loss: 28.0690\n",
            "Epoch 49/100\n",
            "240/240 [==============================] - 0s 2ms/step - loss: 28.3659\n",
            "Epoch 50/100\n",
            "240/240 [==============================] - 0s 2ms/step - loss: 28.2305\n",
            "Epoch 51/100\n",
            "240/240 [==============================] - 0s 2ms/step - loss: 28.1001\n",
            "Epoch 52/100\n",
            "240/240 [==============================] - 0s 2ms/step - loss: 28.7539\n",
            "Epoch 53/100\n",
            "240/240 [==============================] - 0s 2ms/step - loss: 28.1762\n",
            "Epoch 54/100\n",
            "240/240 [==============================] - 0s 2ms/step - loss: 27.8526\n",
            "Epoch 55/100\n",
            "240/240 [==============================] - 0s 2ms/step - loss: 27.9800\n",
            "Epoch 56/100\n",
            "240/240 [==============================] - 0s 2ms/step - loss: 28.3150\n",
            "Epoch 57/100\n",
            "240/240 [==============================] - 0s 2ms/step - loss: 28.1617\n",
            "Epoch 58/100\n",
            "240/240 [==============================] - 0s 2ms/step - loss: 28.5661\n",
            "Epoch 59/100\n",
            "240/240 [==============================] - 0s 2ms/step - loss: 28.0602\n",
            "Epoch 60/100\n",
            "240/240 [==============================] - 0s 2ms/step - loss: 28.0087\n",
            "Epoch 61/100\n",
            "240/240 [==============================] - 0s 2ms/step - loss: 28.0203\n",
            "Epoch 62/100\n",
            "240/240 [==============================] - 0s 2ms/step - loss: 27.9769\n",
            "Epoch 63/100\n",
            "240/240 [==============================] - 0s 2ms/step - loss: 28.2159\n",
            "Epoch 64/100\n",
            "240/240 [==============================] - 0s 2ms/step - loss: 27.9318\n",
            "Epoch 65/100\n",
            "240/240 [==============================] - 0s 2ms/step - loss: 28.3044\n",
            "Epoch 66/100\n",
            "240/240 [==============================] - 0s 2ms/step - loss: 27.7245\n",
            "Epoch 67/100\n",
            "240/240 [==============================] - 0s 2ms/step - loss: 28.0903\n",
            "Epoch 68/100\n",
            "240/240 [==============================] - 0s 2ms/step - loss: 28.1805\n",
            "Epoch 69/100\n",
            "240/240 [==============================] - 0s 2ms/step - loss: 28.0026\n",
            "Epoch 70/100\n",
            "240/240 [==============================] - 0s 2ms/step - loss: 28.1972\n",
            "Epoch 71/100\n",
            "240/240 [==============================] - 0s 2ms/step - loss: 28.1515\n",
            "Epoch 72/100\n",
            "240/240 [==============================] - 1s 2ms/step - loss: 28.2778\n",
            "Epoch 73/100\n",
            "240/240 [==============================] - 1s 3ms/step - loss: 28.3049\n",
            "Epoch 74/100\n",
            "240/240 [==============================] - 1s 3ms/step - loss: 27.9318\n",
            "Epoch 75/100\n",
            "240/240 [==============================] - 1s 2ms/step - loss: 28.6078\n",
            "Epoch 76/100\n",
            "240/240 [==============================] - 1s 2ms/step - loss: 28.3709\n",
            "Epoch 77/100\n",
            "240/240 [==============================] - 0s 2ms/step - loss: 28.6711\n",
            "Epoch 78/100\n",
            "240/240 [==============================] - 0s 2ms/step - loss: 28.1473\n",
            "Epoch 79/100\n",
            "240/240 [==============================] - 0s 2ms/step - loss: 27.7488\n",
            "Epoch 80/100\n",
            "240/240 [==============================] - 0s 2ms/step - loss: 27.7218\n",
            "Epoch 81/100\n",
            "240/240 [==============================] - 0s 2ms/step - loss: 28.3411\n",
            "Epoch 82/100\n",
            "240/240 [==============================] - 0s 2ms/step - loss: 28.0672\n",
            "Epoch 83/100\n",
            "240/240 [==============================] - 0s 2ms/step - loss: 27.8647\n",
            "Epoch 84/100\n",
            "240/240 [==============================] - 0s 2ms/step - loss: 28.2167\n",
            "Epoch 85/100\n",
            "240/240 [==============================] - 0s 2ms/step - loss: 28.1907\n",
            "Epoch 86/100\n",
            "240/240 [==============================] - 0s 2ms/step - loss: 28.4447\n",
            "Epoch 87/100\n",
            "240/240 [==============================] - 0s 2ms/step - loss: 27.8293\n",
            "Epoch 88/100\n",
            "240/240 [==============================] - 0s 2ms/step - loss: 28.0631\n",
            "Epoch 89/100\n",
            "240/240 [==============================] - 0s 2ms/step - loss: 28.7753\n",
            "Epoch 90/100\n",
            "240/240 [==============================] - 0s 2ms/step - loss: 28.7339\n",
            "Epoch 91/100\n",
            "240/240 [==============================] - 0s 2ms/step - loss: 27.7253\n",
            "Epoch 92/100\n",
            "240/240 [==============================] - 0s 2ms/step - loss: 27.9488\n",
            "Epoch 93/100\n",
            "240/240 [==============================] - 0s 2ms/step - loss: 27.9432\n",
            "Epoch 94/100\n",
            "240/240 [==============================] - 0s 2ms/step - loss: 27.9221\n",
            "Epoch 95/100\n",
            "240/240 [==============================] - 0s 2ms/step - loss: 28.1602\n",
            "Epoch 96/100\n",
            "240/240 [==============================] - 0s 2ms/step - loss: 28.5459\n",
            "Epoch 97/100\n",
            "240/240 [==============================] - 0s 1ms/step - loss: 28.9710\n",
            "Epoch 98/100\n",
            "240/240 [==============================] - 0s 2ms/step - loss: 28.0164\n",
            "Epoch 99/100\n",
            "240/240 [==============================] - 0s 2ms/step - loss: 28.1030\n",
            "Epoch 100/100\n",
            "240/240 [==============================] - 0s 2ms/step - loss: 27.8737\n"
          ]
        },
        {
          "output_type": "execute_result",
          "data": {
            "text/plain": [
              "<keras.src.callbacks.History at 0x7c5296cec6d0>"
            ]
          },
          "metadata": {},
          "execution_count": 15
        }
      ]
    },
    {
      "cell_type": "markdown",
      "metadata": {
        "id": "0H0zKKNEBLD5"
      },
      "source": [
        "### Predicting the results of the Test set"
      ]
    },
    {
      "cell_type": "code",
      "source": [
        "y_pred = ann.predict(x_test)\n",
        "np.set_printoptions(precision=2)\n",
        "print(np.concatenate((y_pred.reshape(len(y_pred),1), y_test.reshape(len(y_test),1)),1))\n"
      ],
      "metadata": {
        "id": "ksAk6103zEc7",
        "colab": {
          "base_uri": "https://localhost:8080/"
        },
        "outputId": "2cad1bb0-0607-4e20-cc22-ff2f84083126"
      },
      "execution_count": 16,
      "outputs": [
        {
          "output_type": "stream",
          "name": "stdout",
          "text": [
            "60/60 [==============================] - 0s 2ms/step\n",
            "[[430.83 431.23]\n",
            " [462.89 460.01]\n",
            " [467.73 461.14]\n",
            " ...\n",
            " [473.25 473.26]\n",
            " [439.95 438.  ]\n",
            " [459.22 463.28]]\n"
          ]
        }
      ]
    }
  ]
}